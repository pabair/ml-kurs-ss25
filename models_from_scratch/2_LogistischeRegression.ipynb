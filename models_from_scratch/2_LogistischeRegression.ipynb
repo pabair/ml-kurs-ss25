{
 "cells": [
  {
   "cell_type": "code",
   "execution_count": 1,
   "metadata": {},
   "outputs": [],
   "source": [
    "import numpy as np\n",
    "\n",
    "class LogisticRegression:\n",
    "    def __init__(self, learning_rate=0.01, iterations=1000, tolerance=1e-6):\n",
    "        self.learning_rate = learning_rate\n",
    "        self.iterations = iterations\n",
    "        self.tolerance = tolerance\n",
    "        self.weights = None\n",
    "        self.bias = None\n",
    "        self.classes = None\n",
    "\n",
    "    def sigmoid(self, z):\n",
    "        return 1 / (1 + np.exp(-z))\n",
    "\n",
    "    def fit(self, X, Y):\n",
    "        X = np.array(X)\n",
    "        Y = np.array(Y)\n",
    "        self.classes = np.unique(Y)\n",
    "        n_samples, n_features = X.shape\n",
    "        n_classes = len(self.classes)\n",
    "\n",
    "        self.weights = np.zeros((n_classes, n_features))\n",
    "        self.bias = np.zeros(n_classes)\n",
    "\n",
    "        for idx, cls in enumerate(self.classes):\n",
    "            y_binary = (Y == cls).astype(int)  \n",
    "            weights = np.zeros(n_features)\n",
    "            bias = 0\n",
    "\n",
    "            for i in range(self.iterations):\n",
    "                linear_model = np.dot(X, weights) + bias\n",
    "                y_pred = self.sigmoid(linear_model)\n",
    "\n",
    "                gradient_weights = np.dot(X.T, (y_pred - y_binary)) / n_samples\n",
    "                gradient_bias = np.sum(y_pred - y_binary) / n_samples\n",
    "\n",
    "                weights -= self.learning_rate * gradient_weights\n",
    "                bias -= self.learning_rate * gradient_bias\n",
    "\n",
    "                if np.linalg.norm(gradient_weights) < self.tolerance and abs(gradient_bias) < self.tolerance:\n",
    "                    break\n",
    "\n",
    "            self.weights[idx] = weights\n",
    "            self.bias[idx] = bias\n",
    "\n",
    "        print(f\"Training completed for {n_classes} classes.\")\n",
    "\n",
    "    def predict(self, X):\n",
    "        X = np.array(X)\n",
    "        linear_models = np.dot(X, self.weights.T) + self.bias\n",
    "        probabilities = self.sigmoid(linear_models)\n",
    "        return self.classes[np.argmax(probabilities, axis=1)]\n"
   ]
  },
  {
   "cell_type": "code",
   "execution_count": 2,
   "metadata": {},
   "outputs": [
    {
     "name": "stdout",
     "output_type": "stream",
     "text": [
      "Training completed for 2 classes.\n",
      "Classification Report:\n",
      "              precision    recall  f1-score   support\n",
      "\n",
      "           0       0.76      0.88      0.82        89\n",
      "           1       0.89      0.78      0.83       111\n",
      "\n",
      "    accuracy                           0.82       200\n",
      "   macro avg       0.83      0.83      0.82       200\n",
      "weighted avg       0.83      0.82      0.83       200\n",
      "\n"
     ]
    }
   ],
   "source": [
    "from sklearn.datasets import make_classification\n",
    "from sklearn.model_selection import train_test_split\n",
    "from sklearn.metrics import classification_report\n",
    "\n",
    "X, Y = make_classification(n_samples=1000, n_features=10, random_state=42)                       \n",
    "\n",
    "X_train, X_test, Y_train, Y_test = train_test_split(X, Y, test_size=0.2, random_state=42)\n",
    "\n",
    "\n",
    "LogReg = LogisticRegression()\n",
    "\n",
    "LogReg.fit(X_train, Y_train)\n",
    "\n",
    "predictions = LogReg.predict(X_test)\n",
    "\n",
    "print(f\"Classification Report:\\n{classification_report(Y_test, predictions)}\")"
   ]
  }
 ],
 "metadata": {
  "kernelspec": {
   "display_name": "venv",
   "language": "python",
   "name": "python3"
  },
  "language_info": {
   "codemirror_mode": {
    "name": "ipython",
    "version": 3
   },
   "file_extension": ".py",
   "mimetype": "text/x-python",
   "name": "python",
   "nbconvert_exporter": "python",
   "pygments_lexer": "ipython3",
   "version": "3.10.12"
  }
 },
 "nbformat": 4,
 "nbformat_minor": 2
}
