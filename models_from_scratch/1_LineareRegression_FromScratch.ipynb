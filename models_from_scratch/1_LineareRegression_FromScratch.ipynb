{
 "cells": [
  {
   "cell_type": "code",
   "execution_count": 1,
   "metadata": {},
   "outputs": [],
   "source": [
    "import numpy as np\n",
    "\n",
    "class LinearRegression:\n",
    "    def __init__(self, learning_rate=0.01, iterations=1000, tolerance=1e-6):\n",
    "        self.learning_rate = learning_rate\n",
    "        self.iterations = iterations\n",
    "        self.tolerance = tolerance\n",
    "        self.w0 = 0\n",
    "        self.w1 = 0\n",
    "\n",
    "    def fit(self, X, Y):\n",
    "        X = X.flatten() # ensure X is a 1D array\n",
    "        \n",
    "        n = len(Y)\n",
    "\n",
    "        # gradient descent\n",
    "        for i in range(self.iterations):\n",
    "            y_pred = self.w0 + self.w1 * X\n",
    "            \n",
    "            gradient_w0 = -2 * np.sum(Y - y_pred) / n\n",
    "            gradient_w1 = -2 * np.sum((Y - y_pred) * X) / n\n",
    "\n",
    "            self.w0 -= self.learning_rate * gradient_w0\n",
    "            self.w1 -= self.learning_rate * gradient_w1\n",
    "            \n",
    "            if abs(gradient_w0) < self.tolerance and abs(gradient_w1) < self.tolerance: # check for convergence\n",
    "                break\n",
    "            \n",
    "        print(f\"Weights after training: w0 = {self.w0}, w1 = {self.w1}\")\n",
    "\n",
    "    def predict(self, X):\n",
    "        X = np.array(X)\n",
    "        return self.w0 + self.w1 * X\n"
   ]
  },
  {
   "cell_type": "code",
   "execution_count": 2,
   "metadata": {},
   "outputs": [
    {
     "name": "stdout",
     "output_type": "stream",
     "text": [
      "Weights after training: w0 = 0.0009886331760984894, w1 = 41.76612453758665\n"
     ]
    },
    {
     "data": {
      "text/plain": [
       "0.01042063035301315"
      ]
     },
     "execution_count": 2,
     "metadata": {},
     "output_type": "execute_result"
    }
   ],
   "source": [
    "from sklearn.model_selection import train_test_split\n",
    "from sklearn.metrics import mean_squared_error\n",
    "from sklearn.datasets import make_regression\n",
    "\n",
    "# Generate a dataset suitable for linear regression\n",
    "X, Y = make_regression(n_samples=100, n_features=1, noise=0.1, random_state=42)\n",
    "\n",
    "# Split the data into training and test sets\n",
    "X_train, X_test, Y_train, Y_test = train_test_split(X, Y, test_size=0.2, random_state=42)\n",
    "\n",
    "LinReg = LinearRegression()\n",
    "\n",
    "LinReg.fit(X_train, Y_train)\n",
    "\n",
    "predictions = LinReg.predict(X_test)\n",
    "\n",
    "mean_squared_error(Y_test, predictions)\n"
   ]
  }
 ],
 "metadata": {
  "kernelspec": {
   "display_name": "venv",
   "language": "python",
   "name": "python3"
  },
  "language_info": {
   "codemirror_mode": {
    "name": "ipython",
    "version": 3
   },
   "file_extension": ".py",
   "mimetype": "text/x-python",
   "name": "python",
   "nbconvert_exporter": "python",
   "pygments_lexer": "ipython3",
   "version": "3.10.12"
  }
 },
 "nbformat": 4,
 "nbformat_minor": 2
}
